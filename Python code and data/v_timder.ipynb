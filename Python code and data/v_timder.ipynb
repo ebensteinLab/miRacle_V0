{
 "cells": [
  {
   "cell_type": "code",
   "execution_count": null,
   "id": "eccb3dd5",
   "metadata": {},
   "outputs": [],
   "source": [
    "%matplotlib notebook\n",
    "import ipywidgets as widgets\n",
    "import numpy as np\n",
    "import pandas as pd\n",
    "import matplotlib.pyplot as plt\n",
    "import os\n",
    "from config import paths\n",
    "from utils import include_file_extension\n",
    "from v_timder_utils import notebook_setup_widgets,display_widgets,generate_graphic_handles,load_data"
   ]
  },
  {
   "cell_type": "markdown",
   "id": "c9960cfc",
   "metadata": {},
   "source": [
    "### Load data"
   ]
  },
  {
   "cell_type": "code",
   "execution_count": null,
   "id": "a7fcdc02",
   "metadata": {},
   "outputs": [],
   "source": [
    "# Select the filename of the crops to be analyzed, and the name of the reference crops\n",
    "filename = \"20_mix_images\"\n",
    "reference_crops = \"ref_crops\"\n",
    "\n",
    "data = load_data(filename,reference_crops) #this returns a dict with ALL the crops data\n",
    "df = pd.read_csv(os.path.join(paths[\"v_timder_tables\"],include_file_extension(filename,\"tif\")[:-4]+\".csv\"))\n",
    "df[\"selected_mir_type\"] = -1 #-1 for no selection yet\n",
    "df[\"mir_type\"] = 0 # This is for the binary mode only ()\n",
    "data[\"df\"] = df #add the df to the data dict as well"
   ]
  },
  {
   "cell_type": "markdown",
   "id": "51ebc7c7",
   "metadata": {},
   "source": [
    "### Run V_TIMDER"
   ]
  },
  {
   "cell_type": "markdown",
   "id": "da2f2e40",
   "metadata": {},
   "source": [
    "#### When done, copy the most recent table to the Crops folder and rename it according to filename"
   ]
  },
  {
   "cell_type": "code",
   "execution_count": null,
   "id": "91341dcf",
   "metadata": {
    "scrolled": false
   },
   "outputs": [],
   "source": [
    "selection_mode = \"Mix\" #use \"binary\" or \"mix\"\n",
    "graphic_handles = generate_graphic_handles(data)\n",
    "widgets_dict,local_draw_now = notebook_setup_widgets(widgets, graphic_handles, data,selection_mode)\n",
    "display_widgets(widgets,widgets_dict,selection_mode)\n",
    "local_draw_now(None)"
   ]
  }
 ],
 "metadata": {
  "kernelspec": {
   "display_name": "Python 3 (ipykernel)",
   "language": "python",
   "name": "python3"
  },
  "language_info": {
   "codemirror_mode": {
    "name": "ipython",
    "version": 3
   },
   "file_extension": ".py",
   "mimetype": "text/x-python",
   "name": "python",
   "nbconvert_exporter": "python",
   "pygments_lexer": "ipython3",
   "version": "3.9.17"
  }
 },
 "nbformat": 4,
 "nbformat_minor": 5
}
