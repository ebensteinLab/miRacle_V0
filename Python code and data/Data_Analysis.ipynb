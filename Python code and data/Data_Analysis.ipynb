{
 "cells": [
  {
   "cell_type": "code",
   "execution_count": null,
   "id": "2e7a500b",
   "metadata": {},
   "outputs": [],
   "source": [
    "%matplotlib notebook\n",
    "import numpy as np\n",
    "import pandas as pd\n",
    "import os\n",
    "import ipywidgets as widgets\n",
    "import matplotlib.pyplot as plt\n",
    "import seaborn as sns\n",
    "from dataAnalysis import train_model,transform_X_for_pca\n",
    "from utils import save_sklearn_model, load_sklearn_model, read_tif,include_file_extension\n",
    "from config import paths\n",
    "from sklearn.metrics import ConfusionMatrixDisplay,precision_recall_curve,roc_curve,average_precision_score"
   ]
  },
  {
   "cell_type": "markdown",
   "id": "b27eabd6",
   "metadata": {},
   "source": [
    "# Train a classifier\n",
    "### This trains a classifier and displays the confusion matrix w.r.t to the training and validation sets"
   ]
  },
  {
   "cell_type": "code",
   "execution_count": null,
   "id": "4a7e47fa",
   "metadata": {},
   "outputs": [],
   "source": [
    "filename = \"20_mix_images\"\n",
    "df = pd.read_csv(os.path.join(paths[\"crops\"],include_file_extension(filename,\"tif\")[:-4]+\".csv\"))\n",
    "crops = read_tif(os.path.join(paths[\"crops\"],filename))\n",
    "random_seed=2023\n",
    "\n",
    "pca, classifier = train_model(\n",
    "    crops, df,\n",
    "    pca_components=20,\n",
    "    C=.05,noise_strength=15.,\n",
    "    train_percent=90.,random_seed=random_seed,n_augmentations=6,\n",
    "    symmetrize=True, normalize=True)"
   ]
  },
  {
   "cell_type": "markdown",
   "id": "4fe39dec",
   "metadata": {},
   "source": [
    "### Take a look at some \"eigenfaces\""
   ]
  },
  {
   "cell_type": "code",
   "execution_count": null,
   "id": "4a52b0f8",
   "metadata": {},
   "outputs": [],
   "source": [
    "fig,axes = plt.subplots(5,4)\n",
    "for i in range(20):\n",
    "    col = i % 4\n",
    "    row = i // 4    \n",
    "    eigenface=np.hstack([pca.components_[i].reshape([24,5]),np.flip(pca.components_[i].reshape([24,5]),axis=1)])\n",
    "    axes[row,col].imshow(eigenface)\n",
    "    axes[row,col].set_axis_off()\n",
    "fig.tight_layout()"
   ]
  },
  {
   "cell_type": "markdown",
   "id": "5ad1c768",
   "metadata": {},
   "source": [
    "### Save the model"
   ]
  },
  {
   "cell_type": "code",
   "execution_count": null,
   "id": "c3d0cdac",
   "metadata": {},
   "outputs": [],
   "source": [
    "model_name = \"my_miR_model.pkl\"\n",
    "save_sklearn_model((pca,classifier),model_name)"
   ]
  },
  {
   "cell_type": "markdown",
   "id": "bc82520d",
   "metadata": {},
   "source": [
    "# Classify crops using a model"
   ]
  },
  {
   "cell_type": "code",
   "execution_count": null,
   "id": "fb3a2cb9",
   "metadata": {},
   "outputs": [],
   "source": [
    "filename = \"20_mix_images\"\n",
    "model_name = \"classifier_v0.pkl\"\n",
    "\n",
    "pca,classifier = load_sklearn_model(model_name)\n",
    "crops = read_tif(os.path.join(paths[\"crops\"],filename))\n",
    "\n",
    "X,max_est_arr,good_mask = transform_X_for_pca(crops,normalize=True,symmetrize=True)    \n",
    "for_classifier = np.hstack([pca.transform(X),max_est_arr.reshape(-1,1)])\n",
    "y_mix_pred = classifier.predict(for_classifier)\n",
    "\n",
    "fig,ax=plt.subplots(figsize=(4,3))\n",
    "_=sns.histplot(np.sort(y_mix_pred).astype(str))"
   ]
  }
 ],
 "metadata": {
  "kernelspec": {
   "display_name": "Python 3 (ipykernel)",
   "language": "python",
   "name": "python3"
  },
  "language_info": {
   "codemirror_mode": {
    "name": "ipython",
    "version": 3
   },
   "file_extension": ".py",
   "mimetype": "text/x-python",
   "name": "python",
   "nbconvert_exporter": "python",
   "pygments_lexer": "ipython3",
   "version": "3.9.17"
  }
 },
 "nbformat": 4,
 "nbformat_minor": 5
}
