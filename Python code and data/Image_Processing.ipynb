{
 "cells": [
  {
   "cell_type": "code",
   "execution_count": null,
   "id": "60ada5c9",
   "metadata": {},
   "outputs": [],
   "source": [
    "import numpy as np\n",
    "import os\n",
    "import pandas as pd\n",
    "from utils import save_tif , read_tif, include_file_extension\n",
    "from config import paths\n",
    "from preprocessing import preprocess_images\n",
    "from denoising import train_n2v, denoise_images\n",
    "from blobDetection import convert_blobs_df\n",
    "from cropping import blobs_to_crops"
   ]
  },
  {
   "cell_type": "markdown",
   "id": "53ef5697",
   "metadata": {},
   "source": [
    "# Load, preprocess and denoise images"
   ]
  },
  {
   "cell_type": "code",
   "execution_count": null,
   "id": "26b697db",
   "metadata": {},
   "outputs": [],
   "source": [
    "# Select image filename - it should correspond to a file in DATA_DIR/Images/Raw\n",
    "filename = \"20_mix_images\" #recommended without the .tif but it should work with that as well"
   ]
  },
  {
   "cell_type": "code",
   "execution_count": null,
   "id": "ad628f3e",
   "metadata": {},
   "outputs": [],
   "source": [
    "# Preprocess the image stack\n",
    "path_to_raw_images = os.path.join(paths[\"raw\"],filename)\n",
    "preprocessed_images, preprocessing_kept_inds = preprocess_images(read_tif(path_to_raw_images))\n",
    "\n",
    "# Save the preprocessed images and also a csv connecting the new indices to the original ones in the images\n",
    "path_to_preprocessed_images = os.path.join(paths[\"preprocessed\"],filename)\n",
    "save_tif(path_to_preprocessed_images,preprocessed_images)\n",
    "pd.DataFrame({\"inds_raw\":preprocessing_kept_inds[0],\"inds_preprocessed\":preprocessing_kept_inds[1]}).reset_index(drop=True).to_csv(os.path.join(paths[\"preprocessed\"],include_file_extension(filename,\"csv\")))"
   ]
  },
  {
   "cell_type": "markdown",
   "id": "3048e3ff",
   "metadata": {},
   "source": [
    "### Warning: N2V training is slow, do it with GPU and lots of RAM.\n",
    "### If you already have a trained model, skip the next cell"
   ]
  },
  {
   "cell_type": "code",
   "execution_count": null,
   "id": "c3fc116f",
   "metadata": {},
   "outputs": [],
   "source": [
    "# Select model name\n",
    "n2v_model_name = \"my_n2v_model\"\n",
    "# Train_epochs should be >=10 for serious models\n",
    "# N_images_for_train should be >=100 or None for using all images in the stack to train\n",
    "# random_seed controls how the data is shuffled for training\n",
    "train_n2v(filename, n2v_model_name, train_epochs=1, N_images_for_train=1, random_seed=0)"
   ]
  },
  {
   "cell_type": "code",
   "execution_count": null,
   "id": "3e77617e",
   "metadata": {},
   "outputs": [],
   "source": [
    "n2v_model_name = \"mir_model_v3\"\n",
    "denoised_images = denoise_images(read_tif(os.path.join(paths[\"preprocessed\"],filename)),n2v_model_name)\n",
    "save_tif(os.path.join(paths[\"denoised\"],filename),denoised_images)"
   ]
  },
  {
   "cell_type": "markdown",
   "id": "5341e505",
   "metadata": {},
   "source": [
    "# Identify blobs in images"
   ]
  },
  {
   "cell_type": "markdown",
   "id": "4c1f891c",
   "metadata": {},
   "source": [
    "### Before running this cell, run ThunderSTORM on the denoised images stack and save the output in the blobs directory"
   ]
  },
  {
   "cell_type": "code",
   "execution_count": null,
   "id": "731391b3",
   "metadata": {},
   "outputs": [],
   "source": [
    "name_of_thunderstorm_output = os.path.join(paths['blobs'],\"my_thunderstorm_output.csv\")\n",
    "# Generate the blobs dataframe (and save it in the Blobs folder)\n",
    "_=convert_blobs_df(name_of_thunderstorm_output, filename, save_files=True)"
   ]
  },
  {
   "cell_type": "markdown",
   "id": "e61b17b4",
   "metadata": {},
   "source": [
    "### Convert the blobs to crops for ML and for V_TIMDER\n",
    "#### Consider providing a smaller image file or blobs_df for the V_TIMDER export"
   ]
  },
  {
   "cell_type": "code",
   "execution_count": null,
   "id": "8daa1cd7",
   "metadata": {},
   "outputs": [],
   "source": [
    "# Convert the blobs dataframe obtained previously to crops\n",
    "crop_dimensions = np.array([[-6, 18], [-5, 5]]) # [[-up,down],[-left,right]] with respect to the blob\n",
    "\n",
    "blobs_df = pd.read_csv(os.path.join(paths[\"blobs\"],include_file_extension(filename,\"tif\")[:-4]+\".csv\"))\n",
    "\n",
    "preprocessed_images = read_tif(os.path.join(paths[\"preprocessed\"],filename))\n",
    "keep_inds,crops,crops_L,crops_XL = blobs_to_crops(preprocessed_images,blobs_df,crop_dimensions)\n",
    "\n",
    "#This exports to V_TIMDER\n",
    "save_tif(os.path.join(paths[\"v_timder_noisy\"],\"Normal\",filename),crops)\n",
    "save_tif(os.path.join(paths[\"v_timder_noisy\"],\"Large\",filename),crops_L)\n",
    "save_tif(os.path.join(paths[\"v_timder_noisy\"],\"XL\",filename),crops_XL)\n",
    "blobs_df.loc[keep_inds].reset_index(drop=True).to_csv(os.path.join(paths[\"v_timder_tables\"],include_file_extension(filename,\"tif\")[:-4]+\".csv\"))\n",
    "\n",
    "denoised_images = read_tif(os.path.join(paths[\"denoised\"],filename))\n",
    "keep_inds,crops,crops_L,crops_XL = blobs_to_crops(denoised_images,blobs_df,crop_dimensions)\n",
    "\n",
    "#This exports to V_TIMDER\n",
    "save_tif(os.path.join(paths[\"v_timder_denoised\"],\"Normal\",filename),crops)\n",
    "save_tif(os.path.join(paths[\"v_timder_denoised\"],\"Large\",filename),crops_L)\n",
    "save_tif(os.path.join(paths[\"v_timder_denoised\"],\"XL\",filename),crops_XL)\n",
    "\n",
    "# This does not export to V_TIMDER\n",
    "save_tif(os.path.join(paths[\"crops\"],filename),crops)"
   ]
  }
 ],
 "metadata": {
  "kernelspec": {
   "display_name": "Python 3 (ipykernel)",
   "language": "python",
   "name": "python3"
  },
  "language_info": {
   "codemirror_mode": {
    "name": "ipython",
    "version": 3
   },
   "file_extension": ".py",
   "mimetype": "text/x-python",
   "name": "python",
   "nbconvert_exporter": "python",
   "pygments_lexer": "ipython3",
   "version": "3.9.17"
  }
 },
 "nbformat": 4,
 "nbformat_minor": 5
}
